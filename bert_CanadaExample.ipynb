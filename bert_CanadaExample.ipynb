{
 "cells": [
  {
   "cell_type": "code",
   "execution_count": null,
   "id": "09521297-bab4-4124-87c4-d8468554c018",
   "metadata": {},
   "outputs": [],
   "source": [
    "#this file shows our code for one countr \"Canada\" which was duplicated for the other 4 countries"
   ]
  },
  {
   "cell_type": "code",
   "execution_count": null,
   "id": "f52643ee-1645-408e-933e-e7a3eee35ac6",
   "metadata": {},
   "outputs": [],
   "source": [
    "import pandas as pd\n",
    "df = pd.read_excel(\"matchedcanada.xls\")\n",
    "print(df.head())"
   ]
  },
  {
   "cell_type": "code",
   "execution_count": null,
   "id": "b21fdbdd-aaf4-44a5-8db6-10a9c6bc4465",
   "metadata": {},
   "outputs": [],
   "source": [
    "df[\"Lyrics\"] = df[\"Lyrics\"].str.strip()\n",
    "\n",
    "df = df.dropna(subset=[\"Lyrics\"])\n",
    "\n",
    "df[\"Lyrics\"] = df[\"Lyrics\"].apply(lambda x: x[:512] if len(x) > 512 else x)\n",
    "\n",
    "df[\"Date\"] = pd.to_datetime(df[\"Date\"])"
   ]
  },
  {
   "cell_type": "code",
   "execution_count": null,
   "id": "c5b64ec7-6886-45e5-ba48-81017d465527",
   "metadata": {},
   "outputs": [],
   "source": [
    "from transformers import pipeline\n",
    "\n",
    "sentiment_analyzer = pipeline(\"sentiment-analysis\", model=\"nlptown/bert-base-multilingual-uncased-sentiment\")\n",
    "\n",
    "# Define a function to categorize sentiment scores\n",
    "def categorize_sentiment(score):\n",
    "    if score <= 0.4:\n",
    "        return \"Negative\"\n",
    "    elif 0.4 < score <= 0.6:\n",
    "        return \"Neutral\"\n",
    "    else:\n",
    "        return \"Positive\"\n",
    "\n",
    "def analyze_sentiment(lyrics):\n",
    "    try:\n",
    "        result = sentiment_analyzer(lyrics)\n",
    "        sentiment_label = result[0][\"label\"]\n",
    "        sentiment_score = result[0][\"score\"]\n",
    "        category = categorize_sentiment(sentiment_score)\n",
    "        return category, sentiment_score\n",
    "    except Exception as e:\n",
    "        return None, None\n",
    "\n",
    "# Apply the function to the DataFrame\n",
    "df[\"Sentiment\"], df[\"Score\"] = zip(*df[\"Lyrics\"].apply(analyze_sentiment))\n",
    "\n",
    "# Print the first few rows of the DataFrame\n",
    "print(df[[\"Date\", \"Rank\", \"Song\", \"Artist\", \"Sentiment\", \"Score\"]].head())"
   ]
  },
  {
   "cell_type": "code",
   "execution_count": null,
   "id": "c22a3ce3-e0fe-4526-a2a0-841133c9619b",
   "metadata": {},
   "outputs": [],
   "source": [
    "#Plotting yearly Sentiment trend \n",
    "df[\"Year\"] = df[\"Date\"].dt.year\n",
    "\n",
    "sentiment_trends = df.groupby(\"Year\")[\"Sentiment\"].value_counts(normalize=True).unstack()\n",
    "\n",
    "import matplotlib.pyplot as plt\n",
    "\n",
    "sentiment_trends.plot(kind=\"bar\", stacked=True, figsize=(12, 6), colormap=\"coolwarm\")\n",
    "plt.title(\"Sentiment Trends in Top Songs_Canada (2019-2022)\")\n",
    "plt.xlabel(\"Year\")\n",
    "plt.ylabel(\"Proportion of Songs\")\n",
    "plt.legend(title=\"Sentiment\")\n",
    "plt.show()"
   ]
  },
  {
   "cell_type": "code",
   "execution_count": null,
   "id": "5d0217ca-8106-41c5-9891-d1cac26e6424",
   "metadata": {},
   "outputs": [],
   "source": [
    "#Plotting monthly Sentiment trend \n",
    "df[\"Month\"] = df[\"Date\"].dt.to_period(\"M\")\n",
    "\n",
    "sentiment_trends = df.groupby(\"Month\")[\"Sentiment\"].value_counts(normalize=True).unstack()\n",
    "\n",
    "import matplotlib.pyplot as plt\n",
    "\n",
    "sentiment_trends.plot(kind=\"bar\", stacked=True, figsize=(12, 6), colormap=\"coolwarm\")\n",
    "plt.title(\"Sentiment Trends in Top Songs in Canada by month (2019-2022)\")\n",
    "plt.xlabel(\"Month\")\n",
    "plt.ylabel(\"Proportion of Songs\")\n",
    "plt.legend(title=\"Sentiment\")\n",
    "plt.show()"
   ]
  },
  {
   "cell_type": "code",
   "execution_count": null,
   "id": "d0b38495-2ad3-4a50-90e4-370d93f516c1",
   "metadata": {},
   "outputs": [],
   "source": [
    "#Plotting a radar chart\n",
    "\n",
    "import numpy as np\n",
    "import matplotlib.pyplot as plt\n",
    "\n",
    "sentiment_values = sentiment_trends.mean()  \n",
    "\n",
    "# Calculate the number of categories (sentiments)\n",
    "categories = sentiment_values.index\n",
    "N = len(categories)\n",
    "\n",
    "# Compute angles for the radar chart\n",
    "angles = np.linspace(0, 2 * np.pi, N, endpoint=False).tolist()\n",
    "\n",
    "# Make the plot\n",
    "fig, ax = plt.subplots(figsize=(8, 6), subplot_kw=dict(polar=True))\n",
    "ax.fill(angles, sentiment_values, color=\"b\", alpha=0.25)  # Fill under the curve\n",
    "ax.plot(angles, sentiment_values, color=\"b\", linewidth=2)  # Plot the line\n",
    "\n",
    "# Labels for each sentiment\n",
    "ax.set_yticklabels([])\n",
    "ax.set_xticks(angles)\n",
    "ax.set_xticklabels(categories)\n",
    "\n",
    "plt.title(\"Radar Chart: Sentiment Proportions Over Time_Canada (2019-2022)\", fontsize=14, y=1.1)\n",
    "plt.show()"
   ]
  },
  {
   "cell_type": "code",
   "execution_count": null,
   "id": "8c7da825-f976-4d56-912c-a0ff76997f66",
   "metadata": {},
   "outputs": [],
   "source": [
    "#Plotting a radar chart with bars and line overlay \n",
    "\n",
    "\n",
    "sentiment_values = sentiment_trends.mean()  \n",
    "\n",
    "# Calculate the number of categories (sentiments)\n",
    "categories = sentiment_values.index\n",
    "N = len(categories)\n",
    "\n",
    "# Compute angles for the radar chart\n",
    "angles = np.linspace(0, 2 * np.pi, N, endpoint=False).tolist()\n",
    "\n",
    "# Set up the plot\n",
    "fig, ax = plt.subplots(figsize=(8, 6), subplot_kw=dict(polar=True))\n",
    "\n",
    "# Plot the bars\n",
    "ax.bar(angles, sentiment_values, color='b', alpha=0.25, linewidth=2, edgecolor='black', zorder=1)\n",
    "\n",
    "# Plot the line overlay\n",
    "ax.plot(angles, sentiment_values, color='b', linewidth=2, linestyle='-', zorder=2)\n",
    "\n",
    "# Labels for each sentiment\n",
    "ax.set_yticklabels([])\n",
    "ax.set_xticks(angles)\n",
    "ax.set_xticklabels(categories)\n",
    "\n",
    "# Title\n",
    "plt.title(\"Radar Chart with Bars and Line Overlay (2019-2022)\", fontsize=14, y=1.1)\n",
    "plt.show()"
   ]
  },
  {
   "cell_type": "code",
   "execution_count": null,
   "id": "d25af02d-2a3b-4e21-9056-980c809aca1b",
   "metadata": {},
   "outputs": [],
   "source": [
    "#Saving new excel files \n",
    "df.to_excel(\"songs_with_sentiment.xlsx\", index=False)\n",
    "from google.colab import files\n",
    "files.download(\"songs_with_sentiment_Canada.xlsx\")"
   ]
  }
 ],
 "metadata": {
  "kernelspec": {
   "display_name": "Python [conda env:base] *",
   "language": "python",
   "name": "conda-base-py"
  },
  "language_info": {
   "codemirror_mode": {
    "name": "ipython",
    "version": 3
   },
   "file_extension": ".py",
   "mimetype": "text/x-python",
   "name": "python",
   "nbconvert_exporter": "python",
   "pygments_lexer": "ipython3",
   "version": "3.12.7"
  }
 },
 "nbformat": 4,
 "nbformat_minor": 5
}
